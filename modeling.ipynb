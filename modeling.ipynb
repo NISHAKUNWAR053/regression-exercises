{
 "cells": [
  {
   "cell_type": "code",
   "execution_count": 1,
   "id": "477b070a-4c44-4d3d-9953-702ae4860219",
   "metadata": {},
   "outputs": [],
   "source": [
    "# lets grab some imports to do our work:\n",
    "import numpy as np\n",
    "import pandas as pd\n",
    "import statsmodels.api as sm\n",
    "# data source\n",
    "from pydataset import data\n",
    "# visualizations:\n",
    "import matplotlib.pyplot as plt\n",
    "import seaborn as sns\n",
    "\n",
    "# modeling:\n",
    "# data splitting:\n",
    "from sklearn.model_selection import train_test_split\n",
    "from sklearn.feature_selection import SelectKBest, f_regression\n",
    "from sklearn.linear_model import LinearRegression, TweedieRegressor, LassoLars\n",
    "from sklearn.metrics import mean_squared_error, explained_variance_score, r2_score\n",
    "from sklearn.preprocessing import PolynomialFeatures\n",
    "from sklearn.preprocessing import MinMaxScaler\n",
    "\n",
    "# statistical testing\n",
    "from scipy import stats"
   ]
  },
  {
   "cell_type": "code",
   "execution_count": 2,
   "id": "b81482e7-3479-446e-be38-67214a5c9081",
   "metadata": {},
   "outputs": [],
   "source": [
    "swiss = data('swiss')"
   ]
  },
  {
   "cell_type": "code",
   "execution_count": 3,
   "id": "7b951cc0-c96c-4609-a44a-2f305b16fe0d",
   "metadata": {},
   "outputs": [
    {
     "data": {
      "text/html": [
       "<div>\n",
       "<style scoped>\n",
       "    .dataframe tbody tr th:only-of-type {\n",
       "        vertical-align: middle;\n",
       "    }\n",
       "\n",
       "    .dataframe tbody tr th {\n",
       "        vertical-align: top;\n",
       "    }\n",
       "\n",
       "    .dataframe thead th {\n",
       "        text-align: right;\n",
       "    }\n",
       "</style>\n",
       "<table border=\"1\" class=\"dataframe\">\n",
       "  <thead>\n",
       "    <tr style=\"text-align: right;\">\n",
       "      <th></th>\n",
       "      <th>Fertility</th>\n",
       "      <th>Agriculture</th>\n",
       "      <th>Examination</th>\n",
       "      <th>Education</th>\n",
       "      <th>Catholic</th>\n",
       "      <th>Infant.Mortality</th>\n",
       "    </tr>\n",
       "  </thead>\n",
       "  <tbody>\n",
       "    <tr>\n",
       "      <th>Courtelary</th>\n",
       "      <td>80.2</td>\n",
       "      <td>17.0</td>\n",
       "      <td>15</td>\n",
       "      <td>12</td>\n",
       "      <td>9.96</td>\n",
       "      <td>22.2</td>\n",
       "    </tr>\n",
       "    <tr>\n",
       "      <th>Delemont</th>\n",
       "      <td>83.1</td>\n",
       "      <td>45.1</td>\n",
       "      <td>6</td>\n",
       "      <td>9</td>\n",
       "      <td>84.84</td>\n",
       "      <td>22.2</td>\n",
       "    </tr>\n",
       "    <tr>\n",
       "      <th>Franches-Mnt</th>\n",
       "      <td>92.5</td>\n",
       "      <td>39.7</td>\n",
       "      <td>5</td>\n",
       "      <td>5</td>\n",
       "      <td>93.40</td>\n",
       "      <td>20.2</td>\n",
       "    </tr>\n",
       "    <tr>\n",
       "      <th>Moutier</th>\n",
       "      <td>85.8</td>\n",
       "      <td>36.5</td>\n",
       "      <td>12</td>\n",
       "      <td>7</td>\n",
       "      <td>33.77</td>\n",
       "      <td>20.3</td>\n",
       "    </tr>\n",
       "    <tr>\n",
       "      <th>Neuveville</th>\n",
       "      <td>76.9</td>\n",
       "      <td>43.5</td>\n",
       "      <td>17</td>\n",
       "      <td>15</td>\n",
       "      <td>5.16</td>\n",
       "      <td>20.6</td>\n",
       "    </tr>\n",
       "  </tbody>\n",
       "</table>\n",
       "</div>"
      ],
      "text/plain": [
       "              Fertility  Agriculture  Examination  Education  Catholic  \\\n",
       "Courtelary         80.2         17.0           15         12      9.96   \n",
       "Delemont           83.1         45.1            6          9     84.84   \n",
       "Franches-Mnt       92.5         39.7            5          5     93.40   \n",
       "Moutier            85.8         36.5           12          7     33.77   \n",
       "Neuveville         76.9         43.5           17         15      5.16   \n",
       "\n",
       "              Infant.Mortality  \n",
       "Courtelary                22.2  \n",
       "Delemont                  22.2  \n",
       "Franches-Mnt              20.2  \n",
       "Moutier                   20.3  \n",
       "Neuveville                20.6  "
      ]
     },
     "execution_count": 3,
     "metadata": {},
     "output_type": "execute_result"
    }
   ],
   "source": [
    "swiss.head()"
   ]
  },
  {
   "cell_type": "markdown",
   "id": "fcce916d-0497-4087-8a66-c0b3196396f2",
   "metadata": {},
   "source": [
    "2. Be sure your data is prepared (no missing values, numeric datatypes) and split into samples."
   ]
  },
  {
   "cell_type": "code",
   "execution_count": 12,
   "id": "08708e91-633c-48d5-a315-8dec94c0ee93",
   "metadata": {},
   "outputs": [
    {
     "name": "stdout",
     "output_type": "stream",
     "text": [
      "<class 'pandas.core.frame.DataFrame'>\n",
      "Index: 47 entries, Courtelary to Rive Gauche\n",
      "Data columns (total 6 columns):\n",
      " #   Column            Non-Null Count  Dtype  \n",
      "---  ------            --------------  -----  \n",
      " 0   Fertility         47 non-null     float64\n",
      " 1   Agriculture       47 non-null     float64\n",
      " 2   Examination       47 non-null     int64  \n",
      " 3   Education         47 non-null     int64  \n",
      " 4   Catholic          47 non-null     float64\n",
      " 5   Infant.Mortality  47 non-null     float64\n",
      "dtypes: float64(4), int64(2)\n",
      "memory usage: 3.6+ KB\n"
     ]
    }
   ],
   "source": [
    "swiss.info()"
   ]
  },
  {
   "cell_type": "code",
   "execution_count": 14,
   "id": "fca11fee-5411-4ff5-8c78-2347601dadb7",
   "metadata": {},
   "outputs": [
    {
     "data": {
      "text/plain": [
       "Fertility           0\n",
       "Agriculture         0\n",
       "Examination         0\n",
       "Education           0\n",
       "Catholic            0\n",
       "Infant.Mortality    0\n",
       "dtype: int64"
      ]
     },
     "execution_count": 14,
     "metadata": {},
     "output_type": "execute_result"
    }
   ],
   "source": [
    "# Checking for missing values\n",
    "swiss.isnull().sum()"
   ]
  },
  {
   "cell_type": "code",
   "execution_count": 15,
   "id": "27c16981-0804-4377-8346-e9d867b3bea0",
   "metadata": {},
   "outputs": [],
   "source": [
    "# Define your X (features) and y (target variable)\n",
    "X = swiss.drop('Fertility', axis=1)\n",
    "y = swiss['Fertility']"
   ]
  },
  {
   "cell_type": "code",
   "execution_count": 16,
   "id": "8577248c-209e-4eb1-a937-ae7799a3e0e4",
   "metadata": {},
   "outputs": [],
   "source": [
    "# Split the data into training and test sets\n",
    "X_train, X_test, y_train, y_test = train_test_split(X, y, test_size=0.2, random_state=42)\n"
   ]
  },
  {
   "cell_type": "code",
   "execution_count": 17,
   "id": "fc920416-96e1-42fe-86aa-3b5eb1f16e9d",
   "metadata": {},
   "outputs": [],
   "source": [
    "# Add a constant to the features\n",
    "X_train_const = sm.add_constant(X_train)\n",
    "X_test_const = sm.add_constant(X_test)"
   ]
  },
  {
   "cell_type": "code",
   "execution_count": 18,
   "id": "b2766986-6bda-4a0a-a335-b4a7123a0e1c",
   "metadata": {},
   "outputs": [],
   "source": [
    "# Fit the regression model on the training data\n",
    "model = sm.OLS(y_train, X_train_const).fit()"
   ]
  },
  {
   "cell_type": "code",
   "execution_count": 21,
   "id": "4b196b63-d804-4c2c-9de9-43c26dbb627f",
   "metadata": {},
   "outputs": [
    {
     "name": "stdout",
     "output_type": "stream",
     "text": [
      "                            OLS Regression Results                            \n",
      "==============================================================================\n",
      "Dep. Variable:              Fertility   R-squared:                       0.780\n",
      "Model:                            OLS   Adj. R-squared:                  0.745\n",
      "Method:                 Least Squares   F-statistic:                     22.00\n",
      "Date:                Fri, 08 Sep 2023   Prob (F-statistic):           2.31e-09\n",
      "Time:                        09:26:24   Log-Likelihood:                -119.98\n",
      "No. Observations:                  37   AIC:                             252.0\n",
      "Df Residuals:                      31   BIC:                             261.6\n",
      "Df Model:                           5                                         \n",
      "Covariance Type:            nonrobust                                         \n",
      "====================================================================================\n",
      "                       coef    std err          t      P>|t|      [0.025      0.975]\n",
      "------------------------------------------------------------------------------------\n",
      "const               64.4971     11.070      5.826      0.000      41.920      87.075\n",
      "Agriculture         -0.2837      0.082     -3.445      0.002      -0.452      -0.116\n",
      "Examination          0.2769      0.309      0.897      0.377      -0.353       0.906\n",
      "Education           -1.2595      0.223     -5.639      0.000      -1.715      -0.804\n",
      "Catholic             0.1699      0.047      3.613      0.001       0.074       0.266\n",
      "Infant.Mortality     1.0757      0.397      2.711      0.011       0.267       1.885\n",
      "==============================================================================\n",
      "Omnibus:                        1.952   Durbin-Watson:                   2.577\n",
      "Prob(Omnibus):                  0.377   Jarque-Bera (JB):                1.463\n",
      "Skew:                          -0.486   Prob(JB):                        0.481\n",
      "Kurtosis:                       2.949   Cond. No.                         827.\n",
      "==============================================================================\n",
      "\n",
      "Notes:\n",
      "[1] Standard Errors assume that the covariance matrix of the errors is correctly specified.\n"
     ]
    }
   ],
   "source": [
    "print(model.summary())"
   ]
  },
  {
   "cell_type": "code",
   "execution_count": 22,
   "id": "bb1685e1-5614-4b7d-bc64-0148deebcd31",
   "metadata": {},
   "outputs": [],
   "source": [
    "# Make predictions on the test set\n",
    "y_pred = model.predict(X_test_const)"
   ]
  },
  {
   "cell_type": "code",
   "execution_count": 23,
   "id": "b2b32d20-f05d-4e6b-af9c-393628cad1e1",
   "metadata": {},
   "outputs": [
    {
     "name": "stdout",
     "output_type": "stream",
     "text": [
      "RMSE: 11.00728968014887\n",
      "MAE: 9.38058585930822\n"
     ]
    }
   ],
   "source": [
    "# Evaluate the model (you can use metrics like RMSE, MAE)\n",
    "from sklearn.metrics import mean_squared_error, mean_absolute_error\n",
    "print(f\"RMSE: {mean_squared_error(y_test, y_pred, squared=False)}\")\n",
    "print(f\"MAE: {mean_absolute_error(y_test, y_pred)}\")"
   ]
  },
  {
   "cell_type": "markdown",
   "id": "9a13a853-553f-47a6-b465-3f26010e3836",
   "metadata": {},
   "source": [
    "3. Work through all of the steps outlined in the lesson, from setting the baseline to selected a model and evaluating the final model on your test data.\n",
    "\n"
   ]
  },
  {
   "cell_type": "markdown",
   "id": "a02bcd05-c6d6-49f4-80f6-b2faefddb5fa",
   "metadata": {},
   "source": [
    "- Setting the Baseline"
   ]
  },
  {
   "cell_type": "code",
   "execution_count": 24,
   "id": "5bc923be-a54f-48a5-9e95-682c4f9d50cd",
   "metadata": {},
   "outputs": [],
   "source": [
    "# Compute the mean of y_train as the baseline prediction\n",
    "baseline_pred = y_train.mean()\n"
   ]
  },
  {
   "cell_type": "code",
   "execution_count": 25,
   "id": "289caa4c-724e-4131-a26a-c2c432fb3a3f",
   "metadata": {},
   "outputs": [],
   "source": [
    "# Compute the baseline RMSE and MAE\n",
    "baseline_rmse = mean_squared_error(y_train, [baseline_pred]*len(y_train), squared=False)\n",
    "baseline_mae = mean_absolute_error(y_train, [baseline_pred]*len(y_train))\n"
   ]
  },
  {
   "cell_type": "code",
   "execution_count": 26,
   "id": "add45ac5-a926-4f05-aafa-cced33664596",
   "metadata": {},
   "outputs": [
    {
     "name": "stdout",
     "output_type": "stream",
     "text": [
      "Baseline RMSE: 13.214614394721046\n",
      "Baseline MAE: 10.49963476990504\n"
     ]
    }
   ],
   "source": [
    "print(f\"Baseline RMSE: {baseline_rmse}\")\n",
    "print(f\"Baseline MAE: {baseline_mae}\")"
   ]
  },
  {
   "cell_type": "markdown",
   "id": "fc57b372-3b55-42cf-9c34-384d646e0402",
   "metadata": {},
   "source": [
    "- Running Initial Model and Feature Engineering\n"
   ]
  },
  {
   "cell_type": "code",
   "execution_count": 27,
   "id": "0c6cf3af-3af0-4804-8109-4369c2bd45af",
   "metadata": {},
   "outputs": [],
   "source": [
    "# Fit the regression model on the training data\n",
    "model = sm.OLS(y_train, X_train_const).fit()"
   ]
  },
  {
   "cell_type": "code",
   "execution_count": 28,
   "id": "70462620-fe4e-40ca-a8c6-25fbb2c5c1c4",
   "metadata": {},
   "outputs": [
    {
     "name": "stdout",
     "output_type": "stream",
     "text": [
      "                            OLS Regression Results                            \n",
      "==============================================================================\n",
      "Dep. Variable:              Fertility   R-squared:                       0.780\n",
      "Model:                            OLS   Adj. R-squared:                  0.745\n",
      "Method:                 Least Squares   F-statistic:                     22.00\n",
      "Date:                Fri, 08 Sep 2023   Prob (F-statistic):           2.31e-09\n",
      "Time:                        09:28:32   Log-Likelihood:                -119.98\n",
      "No. Observations:                  37   AIC:                             252.0\n",
      "Df Residuals:                      31   BIC:                             261.6\n",
      "Df Model:                           5                                         \n",
      "Covariance Type:            nonrobust                                         \n",
      "====================================================================================\n",
      "                       coef    std err          t      P>|t|      [0.025      0.975]\n",
      "------------------------------------------------------------------------------------\n",
      "const               64.4971     11.070      5.826      0.000      41.920      87.075\n",
      "Agriculture         -0.2837      0.082     -3.445      0.002      -0.452      -0.116\n",
      "Examination          0.2769      0.309      0.897      0.377      -0.353       0.906\n",
      "Education           -1.2595      0.223     -5.639      0.000      -1.715      -0.804\n",
      "Catholic             0.1699      0.047      3.613      0.001       0.074       0.266\n",
      "Infant.Mortality     1.0757      0.397      2.711      0.011       0.267       1.885\n",
      "==============================================================================\n",
      "Omnibus:                        1.952   Durbin-Watson:                   2.577\n",
      "Prob(Omnibus):                  0.377   Jarque-Bera (JB):                1.463\n",
      "Skew:                          -0.486   Prob(JB):                        0.481\n",
      "Kurtosis:                       2.949   Cond. No.                         827.\n",
      "==============================================================================\n",
      "\n",
      "Notes:\n",
      "[1] Standard Errors assume that the covariance matrix of the errors is correctly specified.\n"
     ]
    }
   ],
   "source": [
    "# Check the model summary\n",
    "print(model.summary())"
   ]
  },
  {
   "cell_type": "markdown",
   "id": "ff2e6934-8924-43bb-bd5b-bf8ebd9ce044",
   "metadata": {},
   "source": [
    "- Model Selection and Tuning\n",
    "- Evaluating Model on Test Data"
   ]
  },
  {
   "cell_type": "code",
   "execution_count": 29,
   "id": "2ed687e4-8faf-4011-a783-18958c8086bf",
   "metadata": {},
   "outputs": [],
   "source": [
    "# Make predictions on the test set\n",
    "y_pred = model.predict(X_test_const)\n"
   ]
  },
  {
   "cell_type": "code",
   "execution_count": 30,
   "id": "47a1b9be-4e40-42c9-8c1e-98b255ac5220",
   "metadata": {},
   "outputs": [],
   "source": [
    "# Evaluate the model using RMSE and MAE\n",
    "rmse = mean_squared_error(y_test, y_pred, squared=False)\n",
    "mae = mean_absolute_error(y_test, y_pred)\n"
   ]
  },
  {
   "cell_type": "code",
   "execution_count": 31,
   "id": "7b7775f8-3623-476f-8ebd-615dd1b0ef45",
   "metadata": {},
   "outputs": [
    {
     "name": "stdout",
     "output_type": "stream",
     "text": [
      "Final RMSE: 11.00728968014887\n",
      "Final MAE: 9.38058585930822\n"
     ]
    }
   ],
   "source": [
    "print(f\"Final RMSE: {rmse}\")\n",
    "print(f\"Final MAE: {mae}\")"
   ]
  },
  {
   "cell_type": "code",
   "execution_count": 32,
   "id": "9bfac2f7-5810-4dc7-98e8-77b93eb35013",
   "metadata": {},
   "outputs": [
    {
     "name": "stdout",
     "output_type": "stream",
     "text": [
      "Improvement over baseline in RMSE: 2.2073247145721755\n",
      "Improvement over baseline in MAE: 1.1190489105968204\n"
     ]
    }
   ],
   "source": [
    "# Comparing to Baseline\n",
    "\n",
    "print(f\"Improvement over baseline in RMSE: {baseline_rmse - rmse}\")\n",
    "print(f\"Improvement over baseline in MAE: {baseline_mae - mae}\")\n"
   ]
  },
  {
   "cell_type": "markdown",
   "id": "cac28beb-e322-40fc-95b7-a77696f90090",
   "metadata": {},
   "source": [
    "Summary of Key Findings\n",
    "\n",
    "- Baseline Model: Began by stating the RMSE and MAE of your baseline model. \n",
    "- Best Model:  OLS regression model that used all features.\n",
    "\n"
   ]
  }
 ],
 "metadata": {
  "kernelspec": {
   "display_name": "Python 3 (ipykernel)",
   "language": "python",
   "name": "python3"
  },
  "language_info": {
   "codemirror_mode": {
    "name": "ipython",
    "version": 3
   },
   "file_extension": ".py",
   "mimetype": "text/x-python",
   "name": "python",
   "nbconvert_exporter": "python",
   "pygments_lexer": "ipython3",
   "version": "3.10.12"
  }
 },
 "nbformat": 4,
 "nbformat_minor": 5
}
