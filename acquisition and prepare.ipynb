{
 "cells": [
  {
   "cell_type": "code",
   "execution_count": 1,
   "id": "8638b1cf-b501-42e4-8990-49816ca13d3e",
   "metadata": {},
   "outputs": [],
   "source": [
    "import pandas as pd\n",
    "import numpy as np\n",
    "import os\n",
    "from env import get_connection\n",
    "from sklearn.model_selection import train_test_split"
   ]
  },
  {
   "cell_type": "markdown",
   "id": "1b096d60-6a7b-4bb1-9594-4f90ab08e092",
   "metadata": {},
   "source": [
    "# acquire data"
   ]
  },
  {
   "cell_type": "markdown",
   "id": "dd9d3187-2f8b-4224-9423-8153a9946ba7",
   "metadata": {},
   "source": [
    "Acquire bedroomcnt, bathroomcnt, calculatedfinishedsquarefeet, taxvaluedollarcnt, yearbuilt, taxamount, and fips from the zillow database for all 'Single Family Residential' properties."
   ]
  },
  {
   "cell_type": "code",
   "execution_count": 2,
   "id": "f9cc9f64-a545-4318-a35d-28561a944c41",
   "metadata": {},
   "outputs": [],
   "source": [
    "def new_zillow_data():\n",
    "    url = get_connection('zillow')\n",
    "    query = '''\n",
    "           SELECT\n",
    "           bedroomcnt as bedroom,\n",
    "           bathroomcnt as bathroom,\n",
    "           calculatedfinishedsquarefeet as squarefeet,\n",
    "           taxvaluedollarcnt as tax_value,\n",
    "           yearbuilt as builtin,\n",
    "           taxamount as taxamount,\n",
    "           fips\n",
    "           FROM\n",
    "           propertylandusetype\n",
    "           join properties_2017 on propertylandusetype.propertylandusetypeid = properties_2017.propertylandusetypeid\n",
    "                    and properties_2017.propertylandusetypeid = 261\n",
    "           '''\n",
    "    return pd.read_sql(query, url)\n"
   ]
  },
  {
   "cell_type": "code",
   "execution_count": 6,
   "id": "d0839144-6386-4029-ab32-590d403d11dd",
   "metadata": {},
   "outputs": [],
   "source": [
    "def get_zillow_data(filename = 'zillow.csv'):\n",
    "    if os.path.exists(filename):\n",
    "        df = pd.read_csv(filename, index_col =0)\n",
    "        print('Found csv')\n",
    "        return df\n",
    "    else:\n",
    "        df = new_zillow_data()\n",
    "        df.to_csv(filename)\n",
    "        print('Creating CSV')\n",
    "        return df"
   ]
  },
  {
   "cell_type": "code",
   "execution_count": 7,
   "id": "9ebc814a-94b5-4489-9552-f63730b29ec1",
   "metadata": {},
   "outputs": [
    {
     "name": "stdout",
     "output_type": "stream",
     "text": [
      "Found csv\n"
     ]
    }
   ],
   "source": [
    "df = get_zillow_data()"
   ]
  },
  {
   "cell_type": "code",
   "execution_count": 8,
   "id": "d972c70d-db70-4085-b784-b86a43ffb027",
   "metadata": {},
   "outputs": [
    {
     "data": {
      "text/plain": [
       "(1871335, 7)"
      ]
     },
     "execution_count": 8,
     "metadata": {},
     "output_type": "execute_result"
    }
   ],
   "source": [
    "df.shape"
   ]
  },
  {
   "cell_type": "code",
   "execution_count": 9,
   "id": "e8742d1e-a57a-43bb-b05e-29b6eb55c722",
   "metadata": {},
   "outputs": [
    {
     "name": "stdout",
     "output_type": "stream",
     "text": [
      "<class 'pandas.core.frame.DataFrame'>\n",
      "Index: 1871335 entries, 0 to 1871334\n",
      "Data columns (total 7 columns):\n",
      " #   Column      Dtype  \n",
      "---  ------      -----  \n",
      " 0   bedroom     float64\n",
      " 1   bathroom    float64\n",
      " 2   squarefeet  float64\n",
      " 3   tax_value   float64\n",
      " 4   builtin     float64\n",
      " 5   taxamount   float64\n",
      " 6   fips        float64\n",
      "dtypes: float64(7)\n",
      "memory usage: 114.2 MB\n"
     ]
    }
   ],
   "source": [
    "df.info()"
   ]
  },
  {
   "cell_type": "code",
   "execution_count": 10,
   "id": "ef58de71-1b2f-4ee0-ab38-3ef0e0bb839c",
   "metadata": {},
   "outputs": [
    {
     "data": {
      "text/html": [
       "<div>\n",
       "<style scoped>\n",
       "    .dataframe tbody tr th:only-of-type {\n",
       "        vertical-align: middle;\n",
       "    }\n",
       "\n",
       "    .dataframe tbody tr th {\n",
       "        vertical-align: top;\n",
       "    }\n",
       "\n",
       "    .dataframe thead th {\n",
       "        text-align: right;\n",
       "    }\n",
       "</style>\n",
       "<table border=\"1\" class=\"dataframe\">\n",
       "  <thead>\n",
       "    <tr style=\"text-align: right;\">\n",
       "      <th></th>\n",
       "      <th>bedroom</th>\n",
       "      <th>bathroom</th>\n",
       "      <th>squarefeet</th>\n",
       "      <th>tax_value</th>\n",
       "      <th>builtin</th>\n",
       "      <th>taxamount</th>\n",
       "      <th>fips</th>\n",
       "    </tr>\n",
       "  </thead>\n",
       "  <tbody>\n",
       "    <tr>\n",
       "      <th>0</th>\n",
       "      <td>0.0</td>\n",
       "      <td>0.0</td>\n",
       "      <td>NaN</td>\n",
       "      <td>27516.0</td>\n",
       "      <td>NaN</td>\n",
       "      <td>NaN</td>\n",
       "      <td>6037.0</td>\n",
       "    </tr>\n",
       "    <tr>\n",
       "      <th>1</th>\n",
       "      <td>0.0</td>\n",
       "      <td>0.0</td>\n",
       "      <td>NaN</td>\n",
       "      <td>10.0</td>\n",
       "      <td>NaN</td>\n",
       "      <td>NaN</td>\n",
       "      <td>6037.0</td>\n",
       "    </tr>\n",
       "    <tr>\n",
       "      <th>2</th>\n",
       "      <td>0.0</td>\n",
       "      <td>0.0</td>\n",
       "      <td>NaN</td>\n",
       "      <td>10.0</td>\n",
       "      <td>NaN</td>\n",
       "      <td>NaN</td>\n",
       "      <td>6037.0</td>\n",
       "    </tr>\n",
       "    <tr>\n",
       "      <th>3</th>\n",
       "      <td>0.0</td>\n",
       "      <td>0.0</td>\n",
       "      <td>NaN</td>\n",
       "      <td>2108.0</td>\n",
       "      <td>NaN</td>\n",
       "      <td>174.21</td>\n",
       "      <td>6037.0</td>\n",
       "    </tr>\n",
       "    <tr>\n",
       "      <th>4</th>\n",
       "      <td>4.0</td>\n",
       "      <td>2.0</td>\n",
       "      <td>3633.0</td>\n",
       "      <td>296425.0</td>\n",
       "      <td>2005.0</td>\n",
       "      <td>6941.39</td>\n",
       "      <td>6037.0</td>\n",
       "    </tr>\n",
       "  </tbody>\n",
       "</table>\n",
       "</div>"
      ],
      "text/plain": [
       "   bedroom  bathroom  squarefeet  tax_value  builtin  taxamount    fips\n",
       "0      0.0       0.0         NaN    27516.0      NaN        NaN  6037.0\n",
       "1      0.0       0.0         NaN       10.0      NaN        NaN  6037.0\n",
       "2      0.0       0.0         NaN       10.0      NaN        NaN  6037.0\n",
       "3      0.0       0.0         NaN     2108.0      NaN     174.21  6037.0\n",
       "4      4.0       2.0      3633.0   296425.0   2005.0    6941.39  6037.0"
      ]
     },
     "execution_count": 10,
     "metadata": {},
     "output_type": "execute_result"
    }
   ],
   "source": [
    "df.head()"
   ]
  },
  {
   "cell_type": "code",
   "execution_count": 11,
   "id": "d80fccbb-f1ba-4f03-907d-796e71623ceb",
   "metadata": {},
   "outputs": [
    {
     "data": {
      "text/plain": [
       "bedroom         11\n",
       "bathroom        11\n",
       "squarefeet    7315\n",
       "tax_value      426\n",
       "builtin       8066\n",
       "taxamount     3863\n",
       "fips             0\n",
       "dtype: int64"
      ]
     },
     "execution_count": 11,
     "metadata": {},
     "output_type": "execute_result"
    }
   ],
   "source": [
    "df.isnull().sum()"
   ]
  },
  {
   "cell_type": "markdown",
   "id": "53802982-9c39-4185-a8e7-7b3e3d6dda61",
   "metadata": {},
   "source": [
    "- It is float on every column\n",
    "- tax_value : target variable\n"
   ]
  },
  {
   "cell_type": "code",
   "execution_count": 14,
   "id": "09763644-86cb-4673-8ce7-4101a042e962",
   "metadata": {},
   "outputs": [],
   "source": [
    "df = df.dropna()\n"
   ]
  },
  {
   "cell_type": "code",
   "execution_count": null,
   "id": "965b83e9-8aef-42d4-9ad8-5d7244ae0b6d",
   "metadata": {},
   "outputs": [],
   "source": []
  }
 ],
 "metadata": {
  "kernelspec": {
   "display_name": "Python 3 (ipykernel)",
   "language": "python",
   "name": "python3"
  },
  "language_info": {
   "codemirror_mode": {
    "name": "ipython",
    "version": 3
   },
   "file_extension": ".py",
   "mimetype": "text/x-python",
   "name": "python",
   "nbconvert_exporter": "python",
   "pygments_lexer": "ipython3",
   "version": "3.10.12"
  }
 },
 "nbformat": 4,
 "nbformat_minor": 5
}
